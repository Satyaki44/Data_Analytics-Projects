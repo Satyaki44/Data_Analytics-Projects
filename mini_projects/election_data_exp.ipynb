{
 "cells": [
  {
   "cell_type": "code",
   "execution_count": 1,
   "metadata": {},
   "outputs": [],
   "source": [
    "#importing basic libraries\n",
    "\n",
    "import pandas as pd\n",
    "import numpy as np\n",
    "import matplotlib.pyplot as plt\n",
    "import seaborn as sns\n",
    "%matplotlib inline"
   ]
  },
  {
   "cell_type": "markdown",
   "metadata": {},
   "source": [
    "## EDA"
   ]
  },
  {
   "cell_type": "code",
   "execution_count": 3,
   "metadata": {},
   "outputs": [
    {
     "data": {
      "text/html": [
       "<div>\n",
       "<style scoped>\n",
       "    .dataframe tbody tr th:only-of-type {\n",
       "        vertical-align: middle;\n",
       "    }\n",
       "\n",
       "    .dataframe tbody tr th {\n",
       "        vertical-align: top;\n",
       "    }\n",
       "\n",
       "    .dataframe thead th {\n",
       "        text-align: right;\n",
       "    }\n",
       "</style>\n",
       "<table border=\"1\" class=\"dataframe\">\n",
       "  <thead>\n",
       "    <tr style=\"text-align: right;\">\n",
       "      <th></th>\n",
       "      <th>Candidate</th>\n",
       "      <th>Party</th>\n",
       "      <th>Criminal Cases</th>\n",
       "      <th>Education</th>\n",
       "      <th>Age</th>\n",
       "      <th>Total Assets</th>\n",
       "      <th>Constituency</th>\n",
       "      <th>Liabilities</th>\n",
       "      <th>Winner</th>\n",
       "      <th>Gender</th>\n",
       "    </tr>\n",
       "  </thead>\n",
       "  <tbody>\n",
       "    <tr>\n",
       "      <th>0</th>\n",
       "      <td>Kuldeep Rai Sharma</td>\n",
       "      <td>INC</td>\n",
       "      <td>0</td>\n",
       "      <td>Graduate Professional</td>\n",
       "      <td>52</td>\n",
       "      <td>132233012.0</td>\n",
       "      <td>Andaman And Nicobar Islands</td>\n",
       "      <td>80450870</td>\n",
       "      <td>1.0</td>\n",
       "      <td>M</td>\n",
       "    </tr>\n",
       "    <tr>\n",
       "      <th>1</th>\n",
       "      <td>Ayan Mandal</td>\n",
       "      <td>AITC</td>\n",
       "      <td>0</td>\n",
       "      <td>Graduate</td>\n",
       "      <td>30</td>\n",
       "      <td>7270440.0</td>\n",
       "      <td>Andaman And Nicobar Islands</td>\n",
       "      <td>1500000</td>\n",
       "      <td>0.0</td>\n",
       "      <td>M</td>\n",
       "    </tr>\n",
       "    <tr>\n",
       "      <th>2</th>\n",
       "      <td>C G Saji Kumar</td>\n",
       "      <td>All India Hindustan Congress Party</td>\n",
       "      <td>0</td>\n",
       "      <td>12th Pass</td>\n",
       "      <td>48</td>\n",
       "      <td>120000.0</td>\n",
       "      <td>Andaman And Nicobar Islands</td>\n",
       "      <td>0</td>\n",
       "      <td>0.0</td>\n",
       "      <td>M</td>\n",
       "    </tr>\n",
       "    <tr>\n",
       "      <th>3</th>\n",
       "      <td>C U Rasheed</td>\n",
       "      <td>IND</td>\n",
       "      <td>0</td>\n",
       "      <td>12th Pass</td>\n",
       "      <td>34</td>\n",
       "      <td>202808.0</td>\n",
       "      <td>Andaman And Nicobar Islands</td>\n",
       "      <td>1700000</td>\n",
       "      <td>0.0</td>\n",
       "      <td>M</td>\n",
       "    </tr>\n",
       "    <tr>\n",
       "      <th>4</th>\n",
       "      <td>Gour Chandra Majumder</td>\n",
       "      <td>IND</td>\n",
       "      <td>0</td>\n",
       "      <td>Graduate</td>\n",
       "      <td>52</td>\n",
       "      <td>6062000.0</td>\n",
       "      <td>Andaman And Nicobar Islands</td>\n",
       "      <td>0</td>\n",
       "      <td>0.0</td>\n",
       "      <td>M</td>\n",
       "    </tr>\n",
       "  </tbody>\n",
       "</table>\n",
       "</div>"
      ],
      "text/plain": [
       "               Candidate                               Party  Criminal Cases  \\\n",
       "0     Kuldeep Rai Sharma                                 INC               0   \n",
       "1            Ayan Mandal                                AITC               0   \n",
       "2         C G Saji Kumar  All India Hindustan Congress Party               0   \n",
       "3            C U Rasheed                                 IND               0   \n",
       "4  Gour Chandra Majumder                                 IND               0   \n",
       "\n",
       "               Education  Age  Total Assets                 Constituency  \\\n",
       "0  Graduate Professional   52   132233012.0  Andaman And Nicobar Islands   \n",
       "1               Graduate   30     7270440.0  Andaman And Nicobar Islands   \n",
       "2              12th Pass   48      120000.0  Andaman And Nicobar Islands   \n",
       "3              12th Pass   34      202808.0  Andaman And Nicobar Islands   \n",
       "4               Graduate   52     6062000.0  Andaman And Nicobar Islands   \n",
       "\n",
       "   Liabilities  Winner Gender  \n",
       "0     80450870     1.0      M  \n",
       "1      1500000     0.0      M  \n",
       "2            0     0.0      M  \n",
       "3      1700000     0.0      M  \n",
       "4            0     0.0      M  "
      ]
     },
     "execution_count": 3,
     "metadata": {},
     "output_type": "execute_result"
    }
   ],
   "source": [
    "df=pd.read_csv(\"LokSabha2019.csv\")\n",
    "df.head()"
   ]
  },
  {
   "cell_type": "code",
   "execution_count": 4,
   "metadata": {},
   "outputs": [
    {
     "data": {
      "text/plain": [
       "(7968, 10)"
      ]
     },
     "execution_count": 4,
     "metadata": {},
     "output_type": "execute_result"
    }
   ],
   "source": [
    "df.shape"
   ]
  },
  {
   "cell_type": "code",
   "execution_count": 5,
   "metadata": {},
   "outputs": [
    {
     "data": {
      "text/plain": [
       "Candidate          0\n",
       "Party              0\n",
       "Criminal Cases     0\n",
       "Education          0\n",
       "Age                0\n",
       "Total Assets      60\n",
       "Constituency       0\n",
       "Liabilities        0\n",
       "Winner             0\n",
       "Gender             0\n",
       "dtype: int64"
      ]
     },
     "execution_count": 5,
     "metadata": {},
     "output_type": "execute_result"
    }
   ],
   "source": [
    "df.isnull().sum()"
   ]
  },
  {
   "cell_type": "code",
   "execution_count": 6,
   "metadata": {},
   "outputs": [],
   "source": [
    "df.dropna(inplace=True)"
   ]
  },
  {
   "cell_type": "code",
   "execution_count": 74,
   "metadata": {},
   "outputs": [],
   "source": [
    "#removing all the NAN values from our datset"
   ]
  },
  {
   "cell_type": "code",
   "execution_count": 7,
   "metadata": {
    "scrolled": true
   },
   "outputs": [
    {
     "data": {
      "text/plain": [
       "Candidate         0\n",
       "Party             0\n",
       "Criminal Cases    0\n",
       "Education         0\n",
       "Age               0\n",
       "Total Assets      0\n",
       "Constituency      0\n",
       "Liabilities       0\n",
       "Winner            0\n",
       "Gender            0\n",
       "dtype: int64"
      ]
     },
     "execution_count": 7,
     "metadata": {},
     "output_type": "execute_result"
    }
   ],
   "source": [
    "df.isnull().sum()"
   ]
  },
  {
   "cell_type": "code",
   "execution_count": 32,
   "metadata": {
    "scrolled": true
   },
   "outputs": [
    {
     "name": "stdout",
     "output_type": "stream",
     "text": [
      "<class 'pandas.core.frame.DataFrame'>\n",
      "Int64Index: 7908 entries, 0 to 7967\n",
      "Data columns (total 10 columns):\n",
      " #   Column          Non-Null Count  Dtype  \n",
      "---  ------          --------------  -----  \n",
      " 0   Candidate       7908 non-null   object \n",
      " 1   Party           7908 non-null   object \n",
      " 2   Criminal Cases  7908 non-null   int64  \n",
      " 3   Education       7908 non-null   object \n",
      " 4   Age             7908 non-null   int64  \n",
      " 5   Total Assets    7908 non-null   float64\n",
      " 6   Constituency    7908 non-null   object \n",
      " 7   Liabilities     7908 non-null   int64  \n",
      " 8   Winner          7908 non-null   float64\n",
      " 9   Gender          7908 non-null   object \n",
      "dtypes: float64(2), int64(3), object(5)\n",
      "memory usage: 679.6+ KB\n"
     ]
    }
   ],
   "source": [
    "df.info()"
   ]
  },
  {
   "cell_type": "code",
   "execution_count": 33,
   "metadata": {},
   "outputs": [
    {
     "data": {
      "text/html": [
       "<div>\n",
       "<style scoped>\n",
       "    .dataframe tbody tr th:only-of-type {\n",
       "        vertical-align: middle;\n",
       "    }\n",
       "\n",
       "    .dataframe tbody tr th {\n",
       "        vertical-align: top;\n",
       "    }\n",
       "\n",
       "    .dataframe thead th {\n",
       "        text-align: right;\n",
       "    }\n",
       "</style>\n",
       "<table border=\"1\" class=\"dataframe\">\n",
       "  <thead>\n",
       "    <tr style=\"text-align: right;\">\n",
       "      <th></th>\n",
       "      <th>Criminal Cases</th>\n",
       "      <th>Age</th>\n",
       "      <th>Total Assets</th>\n",
       "      <th>Liabilities</th>\n",
       "      <th>Winner</th>\n",
       "    </tr>\n",
       "  </thead>\n",
       "  <tbody>\n",
       "    <tr>\n",
       "      <th>count</th>\n",
       "      <td>7908.000000</td>\n",
       "      <td>7908.000000</td>\n",
       "      <td>7.908000e+03</td>\n",
       "      <td>7.908000e+03</td>\n",
       "      <td>7908.000000</td>\n",
       "    </tr>\n",
       "    <tr>\n",
       "      <th>mean</th>\n",
       "      <td>0.576884</td>\n",
       "      <td>46.948912</td>\n",
       "      <td>4.200752e+07</td>\n",
       "      <td>5.618469e+06</td>\n",
       "      <td>0.038569</td>\n",
       "    </tr>\n",
       "    <tr>\n",
       "      <th>std</th>\n",
       "      <td>4.076483</td>\n",
       "      <td>12.522373</td>\n",
       "      <td>2.524621e+08</td>\n",
       "      <td>4.633052e+07</td>\n",
       "      <td>0.192576</td>\n",
       "    </tr>\n",
       "    <tr>\n",
       "      <th>min</th>\n",
       "      <td>0.000000</td>\n",
       "      <td>0.000000</td>\n",
       "      <td>9.000000e+00</td>\n",
       "      <td>0.000000e+00</td>\n",
       "      <td>0.000000</td>\n",
       "    </tr>\n",
       "    <tr>\n",
       "      <th>25%</th>\n",
       "      <td>0.000000</td>\n",
       "      <td>38.000000</td>\n",
       "      <td>5.040000e+05</td>\n",
       "      <td>0.000000e+00</td>\n",
       "      <td>0.000000</td>\n",
       "    </tr>\n",
       "    <tr>\n",
       "      <th>50%</th>\n",
       "      <td>0.000000</td>\n",
       "      <td>46.000000</td>\n",
       "      <td>2.751706e+06</td>\n",
       "      <td>0.000000e+00</td>\n",
       "      <td>0.000000</td>\n",
       "    </tr>\n",
       "    <tr>\n",
       "      <th>75%</th>\n",
       "      <td>0.000000</td>\n",
       "      <td>56.000000</td>\n",
       "      <td>1.308878e+07</td>\n",
       "      <td>6.392500e+05</td>\n",
       "      <td>0.000000</td>\n",
       "    </tr>\n",
       "    <tr>\n",
       "      <th>max</th>\n",
       "      <td>240.000000</td>\n",
       "      <td>90.000000</td>\n",
       "      <td>1.107583e+10</td>\n",
       "      <td>1.547511e+09</td>\n",
       "      <td>1.000000</td>\n",
       "    </tr>\n",
       "  </tbody>\n",
       "</table>\n",
       "</div>"
      ],
      "text/plain": [
       "       Criminal Cases          Age  Total Assets   Liabilities       Winner\n",
       "count     7908.000000  7908.000000  7.908000e+03  7.908000e+03  7908.000000\n",
       "mean         0.576884    46.948912  4.200752e+07  5.618469e+06     0.038569\n",
       "std          4.076483    12.522373  2.524621e+08  4.633052e+07     0.192576\n",
       "min          0.000000     0.000000  9.000000e+00  0.000000e+00     0.000000\n",
       "25%          0.000000    38.000000  5.040000e+05  0.000000e+00     0.000000\n",
       "50%          0.000000    46.000000  2.751706e+06  0.000000e+00     0.000000\n",
       "75%          0.000000    56.000000  1.308878e+07  6.392500e+05     0.000000\n",
       "max        240.000000    90.000000  1.107583e+10  1.547511e+09     1.000000"
      ]
     },
     "execution_count": 33,
     "metadata": {},
     "output_type": "execute_result"
    }
   ],
   "source": [
    "df.describe()"
   ]
  },
  {
   "cell_type": "markdown",
   "metadata": {},
   "source": [
    "## VISUALIZATIONS"
   ]
  },
  {
   "cell_type": "code",
   "execution_count": 24,
   "metadata": {},
   "outputs": [],
   "source": [
    "#male vs female"
   ]
  },
  {
   "cell_type": "code",
   "execution_count": 20,
   "metadata": {},
   "outputs": [
    {
     "data": {
      "text/plain": [
       "<matplotlib.axes._subplots.AxesSubplot at 0x12bd955c700>"
      ]
     },
     "execution_count": 20,
     "metadata": {},
     "output_type": "execute_result"
    },
    {
     "data": {
      "image/png": "[encoded data removed]",
      "text/plain": [
       "<Figure size 432x288 with 1 Axes>"
      ]
     },
     "metadata": {
      "needs_background": "light"
     },
     "output_type": "display_data"
    }
   ],
   "source": [
    "df.Gender.value_counts().plot.bar(color=[\"#00FFFF\",\"#800000\"])"
   ]
  },
  {
   "cell_type": "code",
   "execution_count": 34,
   "metadata": {},
   "outputs": [],
   "source": [
    "#distribution of age column"
   ]
  },
  {
   "cell_type": "code",
   "execution_count": 35,
   "metadata": {},
   "outputs": [
    {
     "data": {
      "text/plain": [
       "<matplotlib.axes._subplots.AxesSubplot at 0x12bdb156f40>"
      ]
     },
     "execution_count": 35,
     "metadata": {},
     "output_type": "execute_result"
    },
    {
     "data": {
      "image/png": "[encoded data removed]",
      "text/plain": [
       "<Figure size 432x288 with 1 Axes>"
      ]
     },
     "metadata": {
      "needs_background": "light"
     },
     "output_type": "display_data"
    }
   ],
   "source": [
    "sns.distplot(df.Age)"
   ]
  },
  {
   "cell_type": "code",
   "execution_count": 42,
   "metadata": {},
   "outputs": [],
   "source": [
    "#10 most participated political parties participating in election"
   ]
  },
  {
   "cell_type": "code",
   "execution_count": 41,
   "metadata": {},
   "outputs": [
    {
     "data": {
      "text/plain": [
       "Text(0.5, 1.0, 'Different Political Party and Candidate Count')"
      ]
     },
     "execution_count": 41,
     "metadata": {},
     "output_type": "execute_result"
    },
    {
     "data": {
      "image/png": "[encoded data removed]",
      "text/plain": [
       "<Figure size 432x288 with 1 Axes>"
      ]
     },
     "metadata": {},
     "output_type": "display_data"
    }
   ],
   "source": [
    "loc = df[\"Party\"].value_counts()\n",
    "sns.set(style=\"whitegrid\")\n",
    "sns.barplot(y=loc[:10], x=loc[:10].index, palette=\"Set2\")\n",
    "plt.xticks(rotation=90)\n",
    "plt.xlabel('Party')\n",
    "plt.ylabel('Candidate Count')\n",
    "plt.title(\"Different Political Party and Candidate Count\", fontweight=\"bold\")\n"
   ]
  },
  {
   "cell_type": "code",
   "execution_count": 43,
   "metadata": {},
   "outputs": [],
   "source": [
    "#max_education count for the candidates"
   ]
  },
  {
   "cell_type": "code",
   "execution_count": 45,
   "metadata": {},
   "outputs": [
    {
     "data": {
      "text/plain": [
       "<matplotlib.axes._subplots.AxesSubplot at 0x12bdc009fd0>"
      ]
     },
     "execution_count": 45,
     "metadata": {},
     "output_type": "execute_result"
    },
    {
     "data": {
      "image/png": "[encoded data removed]",
      "text/plain": [
       "<Figure size 864x432 with 1 Axes>"
      ]
     },
     "metadata": {},
     "output_type": "display_data"
    }
   ],
   "source": [
    "plt.subplots(figsize=(12,6))\n",
    "df['Education'].value_counts().plot.bar(width=0.9,color=\"#FFFF00\",alpha=0.75)"
   ]
  },
  {
   "cell_type": "code",
   "execution_count": 72,
   "metadata": {},
   "outputs": [],
   "source": [
    "#total no. of criminal cases in 2019"
   ]
  },
  {
   "cell_type": "code",
   "execution_count": 80,
   "metadata": {},
   "outputs": [
    {
     "data": {
      "text/plain": [
       "<matplotlib.axes._subplots.AxesSubplot at 0x12bded850a0>"
      ]
     },
     "execution_count": 80,
     "metadata": {},
     "output_type": "execute_result"
    },
    {
     "data": {
      "image/png": "[encoded data removed]",
      "text/plain": [
       "<Figure size 432x288 with 1 Axes>"
      ]
     },
     "metadata": {},
     "output_type": "display_data"
    }
   ],
   "source": [
    "loc = df[\"Criminal Cases\"].value_counts()\n",
    "sns.set(style=\"darkgrid\")\n",
    "sns.barplot(y=loc[:5], x=loc[:5].index, palette=\"Set1\")"
   ]
  }
 ],
 "metadata": {
  "kernelspec": {
   "display_name": "Python 3",
   "language": "python",
   "name": "python3"
  },
  "language_info": {
   "codemirror_mode": {
    "name": "ipython",
    "version": 3
   },
   "file_extension": ".py",
   "mimetype": "text/x-python",
   "name": "python",
   "nbconvert_exporter": "python",
   "pygments_lexer": "ipython3",
   "version": "3.8.3"
  }
 },
 "nbformat": 4,
 "nbformat_minor": 4
}
