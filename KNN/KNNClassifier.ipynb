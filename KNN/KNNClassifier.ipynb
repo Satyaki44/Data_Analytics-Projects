{
 "cells": [
  {
   "cell_type": "code",
   "execution_count": 20,
   "metadata": {},
   "outputs": [],
   "source": [
    "import pandas as pd\n",
    "df=pd.read_csv(\"titanic_train.csv\")"
   ]
  },
  {
   "cell_type": "code",
   "execution_count": 21,
   "metadata": {},
   "outputs": [],
   "source": [
    "#passenger id and name column are not reqd to predict Survived \n",
    "df.drop([\"PassengerId\",\"Name\",\"Ticket\",\"Cabin\"],axis=1,inplace=True)"
   ]
  },
  {
   "cell_type": "code",
   "execution_count": 22,
   "metadata": {},
   "outputs": [
    {
     "data": {
      "text/html": [
       "<div>\n",
       "<style scoped>\n",
       "    .dataframe tbody tr th:only-of-type {\n",
       "        vertical-align: middle;\n",
       "    }\n",
       "\n",
       "    .dataframe tbody tr th {\n",
       "        vertical-align: top;\n",
       "    }\n",
       "\n",
       "    .dataframe thead th {\n",
       "        text-align: right;\n",
       "    }\n",
       "</style>\n",
       "<table border=\"1\" class=\"dataframe\">\n",
       "  <thead>\n",
       "    <tr style=\"text-align: right;\">\n",
       "      <th></th>\n",
       "      <th>Survived</th>\n",
       "      <th>Pclass</th>\n",
       "      <th>Sex</th>\n",
       "      <th>Age</th>\n",
       "      <th>SibSp</th>\n",
       "      <th>Parch</th>\n",
       "      <th>Fare</th>\n",
       "      <th>Embarked</th>\n",
       "    </tr>\n",
       "  </thead>\n",
       "  <tbody>\n",
       "    <tr>\n",
       "      <th>0</th>\n",
       "      <td>0</td>\n",
       "      <td>3</td>\n",
       "      <td>male</td>\n",
       "      <td>22.0</td>\n",
       "      <td>1</td>\n",
       "      <td>0</td>\n",
       "      <td>7.2500</td>\n",
       "      <td>S</td>\n",
       "    </tr>\n",
       "    <tr>\n",
       "      <th>1</th>\n",
       "      <td>1</td>\n",
       "      <td>1</td>\n",
       "      <td>female</td>\n",
       "      <td>38.0</td>\n",
       "      <td>1</td>\n",
       "      <td>0</td>\n",
       "      <td>71.2833</td>\n",
       "      <td>C</td>\n",
       "    </tr>\n",
       "    <tr>\n",
       "      <th>2</th>\n",
       "      <td>1</td>\n",
       "      <td>3</td>\n",
       "      <td>female</td>\n",
       "      <td>26.0</td>\n",
       "      <td>0</td>\n",
       "      <td>0</td>\n",
       "      <td>7.9250</td>\n",
       "      <td>S</td>\n",
       "    </tr>\n",
       "    <tr>\n",
       "      <th>3</th>\n",
       "      <td>1</td>\n",
       "      <td>1</td>\n",
       "      <td>female</td>\n",
       "      <td>35.0</td>\n",
       "      <td>1</td>\n",
       "      <td>0</td>\n",
       "      <td>53.1000</td>\n",
       "      <td>S</td>\n",
       "    </tr>\n",
       "    <tr>\n",
       "      <th>4</th>\n",
       "      <td>0</td>\n",
       "      <td>3</td>\n",
       "      <td>male</td>\n",
       "      <td>35.0</td>\n",
       "      <td>0</td>\n",
       "      <td>0</td>\n",
       "      <td>8.0500</td>\n",
       "      <td>S</td>\n",
       "    </tr>\n",
       "  </tbody>\n",
       "</table>\n",
       "</div>"
      ],
      "text/plain": [
       "   Survived  Pclass     Sex   Age  SibSp  Parch     Fare Embarked\n",
       "0         0       3    male  22.0      1      0   7.2500        S\n",
       "1         1       1  female  38.0      1      0  71.2833        C\n",
       "2         1       3  female  26.0      0      0   7.9250        S\n",
       "3         1       1  female  35.0      1      0  53.1000        S\n",
       "4         0       3    male  35.0      0      0   8.0500        S"
      ]
     },
     "execution_count": 22,
     "metadata": {},
     "output_type": "execute_result"
    }
   ],
   "source": [
    "df.head()"
   ]
  },
  {
   "cell_type": "code",
   "execution_count": 23,
   "metadata": {},
   "outputs": [],
   "source": [
    "med=df[\"Age\"].median()\n",
    "#replacing the missing values of Age by median of age column\n",
    "df[\"Age_cleaned\"]=df[\"Age\"].fillna(med)\n",
    "#dropping our old age column\n",
    "df.drop([\"Age\"],axis=1,inplace=True)"
   ]
  },
  {
   "cell_type": "code",
   "execution_count": 24,
   "metadata": {},
   "outputs": [],
   "source": [
    "#dropping remaining nan values\n",
    "df.dropna(inplace=True)"
   ]
  },
  {
   "cell_type": "code",
   "execution_count": 25,
   "metadata": {},
   "outputs": [],
   "source": [
    "#applying one hot encoding to convert the categorical features to integers\n",
    "df=pd.get_dummies(df,columns=[\"Sex\",\"Embarked\"],drop_first=True)"
   ]
  },
  {
   "cell_type": "code",
   "execution_count": 32,
   "metadata": {},
   "outputs": [
    {
     "data": {
      "text/html": [
       "<div>\n",
       "<style scoped>\n",
       "    .dataframe tbody tr th:only-of-type {\n",
       "        vertical-align: middle;\n",
       "    }\n",
       "\n",
       "    .dataframe tbody tr th {\n",
       "        vertical-align: top;\n",
       "    }\n",
       "\n",
       "    .dataframe thead th {\n",
       "        text-align: right;\n",
       "    }\n",
       "</style>\n",
       "<table border=\"1\" class=\"dataframe\">\n",
       "  <thead>\n",
       "    <tr style=\"text-align: right;\">\n",
       "      <th></th>\n",
       "      <th>Survived</th>\n",
       "      <th>Pclass</th>\n",
       "      <th>SibSp</th>\n",
       "      <th>Parch</th>\n",
       "      <th>Fare</th>\n",
       "      <th>Age_cleaned</th>\n",
       "      <th>Sex_male</th>\n",
       "      <th>Embarked_Q</th>\n",
       "      <th>Embarked_S</th>\n",
       "    </tr>\n",
       "  </thead>\n",
       "  <tbody>\n",
       "    <tr>\n",
       "      <th>0</th>\n",
       "      <td>-0.786961</td>\n",
       "      <td>0.825209</td>\n",
       "      <td>0.431350</td>\n",
       "      <td>-0.474326</td>\n",
       "      <td>-0.500240</td>\n",
       "      <td>-0.563674</td>\n",
       "      <td>0.735342</td>\n",
       "      <td>-0.307941</td>\n",
       "      <td>0.616794</td>\n",
       "    </tr>\n",
       "    <tr>\n",
       "      <th>1</th>\n",
       "      <td>1.270711</td>\n",
       "      <td>-1.572211</td>\n",
       "      <td>0.431350</td>\n",
       "      <td>-0.474326</td>\n",
       "      <td>0.788947</td>\n",
       "      <td>0.669217</td>\n",
       "      <td>-1.359911</td>\n",
       "      <td>-0.307941</td>\n",
       "      <td>-1.621287</td>\n",
       "    </tr>\n",
       "    <tr>\n",
       "      <th>2</th>\n",
       "      <td>1.270711</td>\n",
       "      <td>0.825209</td>\n",
       "      <td>-0.475199</td>\n",
       "      <td>-0.474326</td>\n",
       "      <td>-0.486650</td>\n",
       "      <td>-0.255451</td>\n",
       "      <td>-1.359911</td>\n",
       "      <td>-0.307941</td>\n",
       "      <td>0.616794</td>\n",
       "    </tr>\n",
       "    <tr>\n",
       "      <th>3</th>\n",
       "      <td>1.270711</td>\n",
       "      <td>-1.572211</td>\n",
       "      <td>0.431350</td>\n",
       "      <td>-0.474326</td>\n",
       "      <td>0.422861</td>\n",
       "      <td>0.438050</td>\n",
       "      <td>-1.359911</td>\n",
       "      <td>-0.307941</td>\n",
       "      <td>0.616794</td>\n",
       "    </tr>\n",
       "    <tr>\n",
       "      <th>4</th>\n",
       "      <td>-0.786961</td>\n",
       "      <td>0.825209</td>\n",
       "      <td>-0.475199</td>\n",
       "      <td>-0.474326</td>\n",
       "      <td>-0.484133</td>\n",
       "      <td>0.438050</td>\n",
       "      <td>0.735342</td>\n",
       "      <td>-0.307941</td>\n",
       "      <td>0.616794</td>\n",
       "    </tr>\n",
       "  </tbody>\n",
       "</table>\n",
       "</div>"
      ],
      "text/plain": [
       "   Survived    Pclass     SibSp     Parch      Fare  Age_cleaned  Sex_male  \\\n",
       "0 -0.786961  0.825209  0.431350 -0.474326 -0.500240    -0.563674  0.735342   \n",
       "1  1.270711 -1.572211  0.431350 -0.474326  0.788947     0.669217 -1.359911   \n",
       "2  1.270711  0.825209 -0.475199 -0.474326 -0.486650    -0.255451 -1.359911   \n",
       "3  1.270711 -1.572211  0.431350 -0.474326  0.422861     0.438050 -1.359911   \n",
       "4 -0.786961  0.825209 -0.475199 -0.474326 -0.484133     0.438050  0.735342   \n",
       "\n",
       "   Embarked_Q  Embarked_S  \n",
       "0   -0.307941    0.616794  \n",
       "1   -0.307941   -1.621287  \n",
       "2   -0.307941    0.616794  \n",
       "3   -0.307941    0.616794  \n",
       "4   -0.307941    0.616794  "
      ]
     },
     "execution_count": 32,
     "metadata": {},
     "output_type": "execute_result"
    }
   ],
   "source": [
    "#we will now normalize the features to obtain them under the same scale.\n",
    "from sklearn.preprocessing import StandardScaler\n",
    "ss=StandardScaler()\n",
    "df1=pd.DataFrame(ss.fit_transform(df),columns=df.columns)\n",
    "df1.head()"
   ]
  },
  {
   "cell_type": "code",
   "execution_count": 33,
   "metadata": {},
   "outputs": [],
   "source": [
    "X=df.drop(\"Survived\",axis=1)\n",
    "y=df[\"Survived\"]"
   ]
  },
  {
   "cell_type": "code",
   "execution_count": 34,
   "metadata": {},
   "outputs": [],
   "source": [
    "from sklearn.model_selection import train_test_split\n",
    "X_train,X_test,y_train,y_test=train_test_split(X,y,test_size=0.3,random_state=0)"
   ]
  },
  {
   "cell_type": "code",
   "execution_count": 45,
   "metadata": {},
   "outputs": [
    {
     "data": {
      "text/plain": [
       "KNeighborsClassifier(n_neighbors=1)"
      ]
     },
     "execution_count": 45,
     "metadata": {},
     "output_type": "execute_result"
    }
   ],
   "source": [
    "from sklearn.neighbors import KNeighborsClassifier\n",
    "mod=KNeighborsClassifier(n_neighbors=1)\n",
    "mod.fit(X_train,y_train)"
   ]
  },
  {
   "cell_type": "code",
   "execution_count": 46,
   "metadata": {},
   "outputs": [],
   "source": [
    "y_pred=mod.predict(X_test)"
   ]
  },
  {
   "cell_type": "code",
   "execution_count": 47,
   "metadata": {},
   "outputs": [
    {
     "name": "stdout",
     "output_type": "stream",
     "text": [
      "[[122  35]\n",
      " [ 44  66]]\n",
      "              precision    recall  f1-score   support\n",
      "\n",
      "           0       0.73      0.78      0.76       157\n",
      "           1       0.65      0.60      0.63       110\n",
      "\n",
      "    accuracy                           0.70       267\n",
      "   macro avg       0.69      0.69      0.69       267\n",
      "weighted avg       0.70      0.70      0.70       267\n",
      "\n",
      "0.704119850187266\n"
     ]
    }
   ],
   "source": [
    "from sklearn.metrics import confusion_matrix,classification_report,accuracy_score\n",
    "print(confusion_matrix(y_test,y_pred))\n",
    "print(classification_report(y_test,y_pred))\n",
    "print(accuracy_score(y_test,y_pred))"
   ]
  },
  {
   "cell_type": "code",
   "execution_count": 48,
   "metadata": {},
   "outputs": [
    {
     "data": {
      "image/png": "[encoded data removed]",
      "text/plain": [
       "<Figure size 500x500 with 1 Axes>"
      ]
     },
     "metadata": {
      "needs_background": "light"
     },
     "output_type": "display_data"
    }
   ],
   "source": [
    "#roc and auc score\n",
    "import matplotlib.pyplot as plt\n",
    "from sklearn.metrics import roc_curve,auc\n",
    "fpr,tpr,threeshold=roc_curve(y_test,y_pred)\n",
    "auc=auc(fpr,tpr)\n",
    "\n",
    "plt.figure(figsize=(5, 5),dpi=100)\n",
    "plt.plot(fpr,tpr, label='Logistic (auc = %0.2f)' % auc )\n",
    "plt.xlabel('False Positive Rate -->')\n",
    "plt.ylabel('True Positive Rate -->')\n",
    "\n",
    "plt.legend()\n",
    "plt.show()"
   ]
  }
 ],
 "metadata": {
  "kernelspec": {
   "display_name": "Python 3",
   "language": "python",
   "name": "python3"
  },
  "language_info": {
   "codemirror_mode": {
    "name": "ipython",
    "version": 3
   },
   "file_extension": ".py",
   "mimetype": "text/x-python",
   "name": "python",
   "nbconvert_exporter": "python",
   "pygments_lexer": "ipython3",
   "version": "3.8.3"
  }
 },
 "nbformat": 4,
 "nbformat_minor": 4
}
